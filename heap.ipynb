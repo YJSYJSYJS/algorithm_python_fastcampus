{
 "cells": [
  {
   "cell_type": "code",
   "execution_count": 6,
   "metadata": {},
   "outputs": [],
   "source": [
    "class Heap:\n",
    "    def __init__(self, data):\n",
    "        self.heap_arr = list()\n",
    "        self.heap_arr.append(None)\n",
    "        self.heap_arr.append(data)\n",
    "\n",
    "    def move_up(self, in_idx):\n",
    "        if in_idx<=1:\n",
    "            return False\n",
    "        if self.heap_arr[in_idx]>self.heap_arr[in_idx//2]:\n",
    "            return True\n",
    "        else:\n",
    "            return False\n",
    "        \n",
    "\n",
    "    def insert(self, data):\n",
    "        if len(self.heap_arr)==0:\n",
    "            self.heap_arr.append(None)\n",
    "            self.heap_arr.append(data)\n",
    "            return True\n",
    "        self.heap_arr.append(data)\n",
    "        \n",
    "        in_idx = len(self.heap_arr) - 1\n",
    "        \n",
    "        while self.move_up(in_idx):\n",
    "            p_idx = in_idx//2\n",
    "            self.heap_arr[in_idx], self.heap_arr[p_idx] = self.heap_arr[p_idx], self.heap_arr[in_idx]\n",
    "            in_idx = p_idx\n",
    "        \n",
    "        return True"
   ]
  },
  {
   "cell_type": "code",
   "execution_count": 7,
   "metadata": {},
   "outputs": [
    {
     "output_type": "execute_result",
     "data": {
      "text/plain": "True"
     },
     "metadata": {},
     "execution_count": 7
    }
   ],
   "source": [
    "heap = Heap(15)\n",
    "heap.insert(10)\n",
    "heap.insert(8)\n",
    "heap.insert(5)\n",
    "heap.insert(4)\n",
    "heap.insert(20)\n"
   ]
  },
  {
   "cell_type": "code",
   "execution_count": 8,
   "metadata": {},
   "outputs": [
    {
     "output_type": "stream",
     "name": "stdout",
     "text": "[None, 20, 10, 15, 5, 4, 8]\n"
    }
   ],
   "source": [
    "print(heap.heap_arr)"
   ]
  },
  {
   "cell_type": "code",
   "execution_count": null,
   "metadata": {},
   "outputs": [],
   "source": []
  }
 ],
 "metadata": {
  "language_info": {
   "codemirror_mode": {
    "name": "ipython",
    "version": 3
   },
   "file_extension": ".py",
   "mimetype": "text/x-python",
   "name": "python",
   "nbconvert_exporter": "python",
   "pygments_lexer": "ipython3",
   "version": "3.8.2-final"
  },
  "orig_nbformat": 2,
  "kernelspec": {
   "name": "python38264bit8424580873354fc3a306069dccf17a2c",
   "display_name": "Python 3.8.2 64-bit"
  }
 },
 "nbformat": 4,
 "nbformat_minor": 2
}