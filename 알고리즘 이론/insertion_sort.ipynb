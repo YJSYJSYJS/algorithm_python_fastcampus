{
 "cells": [
  {
   "cell_type": "markdown",
   "metadata": {},
   "source": [
    "# 삽입 정렬 \n",
    "\n",
    "- 두번째 인덱스부터 접근하여 끝까지 순회\n",
    "- 각 인덱스 마다 그 전 인덱스들에 접근해가며 대소 비교\n",
    "- 순회차의 인덱스의 데이터를 비우고\n",
    "- 큰 데이터들을 뒤로 밀어주며(swap) 이동\n",
    "- 작은데이터를 만나면 그 뒤에 순회차의 인덱스 데이터를 배치\n"
   ]
  },
  {
   "cell_type": "code",
   "execution_count": 9,
   "metadata": {},
   "outputs": [],
   "source": [
    "# for index in range(len(data)-1):\n",
    "#     for index2 in range(index+1, 0, -1):\n",
    "#         if data[index2]<data[index2-1]:\n",
    "#             swap(data[index2], data[index2-1])\n",
    "#         else:\n",
    "#             break"
   ]
  },
  {
   "cell_type": "code",
   "execution_count": 12,
   "metadata": {},
   "outputs": [],
   "source": [
    "def insertion_sort(data):\n",
    "    for index in range(len(data)-1):\n",
    "        for index2 in range(index+1, 0, -1):\n",
    "            if data[index2]<data[index2-1]:\n",
    "                data[index2], data[index2-1] = data[index2-1], data[index2]\n",
    "            else:\n",
    "                break\n",
    "    return data"
   ]
  },
  {
   "cell_type": "code",
   "execution_count": 15,
   "metadata": {},
   "outputs": [
    {
     "output_type": "stream",
     "name": "stdout",
     "text": "[0, 1, 2, 3, 5, 7, 8, 9, 10, 11, 18, 20, 21, 22, 23, 24, 26, 27, 28, 30, 32, 40, 41, 42, 44, 46, 47, 48, 49, 50, 52, 53, 54, 57, 59, 62, 65, 67, 70, 72, 76, 78, 82, 83, 84, 85, 89, 91, 96, 99]\n"
    }
   ],
   "source": [
    "import random as rd\n",
    "\n",
    "data_list = rd.sample(range(100), 50)\n",
    "print(insertion_sort(data_list))"
   ]
  },
  {
   "cell_type": "markdown",
   "metadata": {},
   "source": [
    "# 알고리즘 분석\n",
    "- 반복문 두개: O(n**2)\n",
    "- 최악의 경우: n(n-1)/2\n",
    "- 최선: O(n)"
   ]
  }
 ],
 "metadata": {
  "language_info": {
   "codemirror_mode": {
    "name": "ipython",
    "version": 3
   },
   "file_extension": ".py",
   "mimetype": "text/x-python",
   "name": "python",
   "nbconvert_exporter": "python",
   "pygments_lexer": "ipython3",
   "version": "3.8.2-final"
  },
  "orig_nbformat": 2,
  "kernelspec": {
   "name": "python38264bit8424580873354fc3a306069dccf17a2c",
   "display_name": "Python 3.8.2 64-bit"
  }
 },
 "nbformat": 4,
 "nbformat_minor": 2
}