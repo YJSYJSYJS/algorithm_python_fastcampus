{
 "cells": [
  {
   "cell_type": "markdown",
   "metadata": {},
   "source": [
    "# 그래프 이해"
   ]
  },
  {
   "cell_type": "markdown",
   "metadata": {},
   "source": [
    "## 1. 정의\n",
    "- 그래프는 실제 세계의 현상이나 사물을 정점(Vertex) 또는 노드(Node)의 간선(Edge)로 표현하기 위해 사용"
   ]
  },
  {
   "cell_type": "markdown",
   "metadata": {},
   "source": [
    "## 2. 그래프 관련 용어\n",
    "- Node: 위치, 정점(Vertex)라고도 함\n",
    "- Edge: 위치 간의 관계, link 또는 branch라고도 함\n",
    "- Adjacent Vertex: Edge로 직접 연결된 정점(or Node)\n",
    "- 참고 용어\n",
    "  - Degree(정점의 차수): 무방향 그래프에서 하나의 정점에 인접한 정점의 수\n",
    "  - In-Degree(진입 차수): 방향 그래프에서 외부에서 오는 간선의 수\n",
    "  - Out-Degree(진출 차수): 방향 그래프에서 외부로 향하는 간선의 수\n",
    "  - Path Length(경로 길이): 경로를 구성하기 위해 사용된 간선의 수\n",
    "  - Simple Path(단순 경로): 처음 정점과 끝 정점을 제외하고 중복된 정점이 없는 경로\n",
    "  - Cycle: 단순 경로의 시작 정점과 종료 정점이 동일한 경우\n",
    "  "
   ]
  },
  {
   "cell_type": "markdown",
   "metadata": {},
   "source": [
    "## 3. Graph 종류 \n",
    "- Undirected Graph(무방향 그래프)\n",
    "  - 방향이 없는 그래프\n",
    "  - 간선을 통해, 노드는 양방향으로 갈 수 있음\n",
    "  - 보통 노드 A, B가 연결되어 있을 경우, (A, B) or (B, A)로 표기\n",
    "\n",
    "- Directed Graph(방향 그래프)\n",
    "  - 간선에 방향이 있는 그래프\n",
    "  - 보통 노드 A, B가 A -> B 로 가는 간선으로 연결되어 있을 경우, <A, B>로 표기(<B, A> 는 반대 방향)\n",
    "\n",
    "- Weighted Graph or Network(가중치 그래프 또는 네트워크)\n",
    "  - 간선에 비용 또는 가중치가 할당된 그래프\n",
    "\n",
    "- Connected Graph and Disconnected Graph(연결/비연결 그래프)\n",
    "  - Connected Graph\n",
    "    - 무방향 그래프에 있는 모든 노드에 대해 항상 경로가 존재하는 경우\n",
    "  - Disconnected Graph\n",
    "    - 무방향 그래프에서 특정 노드에 대해 경로가 존재하지 않는 경우\n",
    "\n",
    "- Cycle and Acyclic Graph(사이클/ 비순환 그래프)\n",
    "  - Cycle\n",
    "    - 단순 경로의 시작 노드와 종료 노드가 동일한 경우\n",
    "  - Acyclic Graph\n",
    "    - 사이클이 없는 그래프\n",
    "\n",
    "- Complete Graph(완전 그래프)\n",
    "  - 그래프의 모든 노드가 서로 연결되어 있는 그래프"
   ]
  },
  {
   "cell_type": "markdown",
   "metadata": {},
   "source": [
    "## 4. Graph vs Tree\n",
    "- 트리는 그래프에 속한 특별한 종류\n",
    "\n",
    "||*그래프*|*트리*|\n",
    "|:----:|:----|:----|\n",
    "|**정의**|노드와 노드를 연결하는 간선으로 표현되는 자료구조|그래프의 한 종류, 방향성이 있는 비순환 그래프|\n",
    "|**방향성**|방향 그래프, 무방향 그래프 둘다 존재|방향 그래프만 존재|\n",
    "|**사이클**|사이클 가능, 순환 및 비순환 그래프 모두 존재|비순환 그래프로 사이클이 존재하지 않음|\n",
    "|**부모/자식 관계**|부모 자식 개념 없음|부모 자식 관계 존재|"
   ]
  }
 ],
 "metadata": {
  "language_info": {
   "codemirror_mode": {
    "name": "ipython",
    "version": 3
   },
   "file_extension": ".py",
   "mimetype": "text/x-python",
   "name": "python",
   "nbconvert_exporter": "python",
   "pygments_lexer": "ipython3",
   "version": 3
  },
  "orig_nbformat": 2
 },
 "nbformat": 4,
 "nbformat_minor": 2
}