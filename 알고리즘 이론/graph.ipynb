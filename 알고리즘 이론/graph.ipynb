{
 "cells": [
  {
   "cell_type": "markdown",
   "metadata": {},
   "source": [
    "# 그래프 이해"
   ]
  },
  {
   "cell_type": "markdown",
   "metadata": {},
   "source": [
    "## 1. 정의\n",
    "- 그래프는 실제 세계의 현상이나 사물을 정점(Vertex) 또는 노드(Node)의 간선(Edge)로 표현하기 위해 사용"
   ]
  },
  {
   "cell_type": "markdown",
   "metadata": {},
   "source": [
    "## 2. 그래프 관련 용어\n",
    "- Node: 위치, 정점(Vertex)라고도 함\n",
    "- Edge: 위치 간의 관계, link 또는 branch라고도 함\n",
    "- Adjacent Vertex: Edge로 직접 연결된 정점(or Node)\n",
    "- 참고 용어\n",
    "  - Degree(정점의 차수): 무방향 그래프에서 하나의 정점에 인접한 정점의 수\n",
    "  - In-Degree(진입 차수): 방향 그래프에서 외부에서 오는 간선의 수\n",
    "  - Out-Degree(진출 차수): 방향 그래프에서 외부로 향하는 간선의 수\n",
    "  - Path Length(경로 길이): 경로를 구성하기 위해 사용된 간선의 수\n",
    "  - Simple Path(단순 경로): 처음 정점과 끝 정점을 제외하고 중복된 정점이 없는 경로\n",
    "  - Cycle: 단순 경로의 시작 정점과 종료 정점이 동일한 경우\n",
    "  "
   ]
  }
 ],
 "metadata": {
  "language_info": {
   "codemirror_mode": {
    "name": "ipython",
    "version": 3
   },
   "file_extension": ".py",
   "mimetype": "text/x-python",
   "name": "python",
   "nbconvert_exporter": "python",
   "pygments_lexer": "ipython3",
   "version": 3
  },
  "orig_nbformat": 2
 },
 "nbformat": 4,
 "nbformat_minor": 2
}