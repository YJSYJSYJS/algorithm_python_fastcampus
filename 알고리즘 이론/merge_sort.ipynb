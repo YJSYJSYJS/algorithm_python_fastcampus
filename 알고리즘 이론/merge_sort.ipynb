{
 "cells": [
  {
   "cell_type": "markdown",
   "metadata": {},
   "source": [
    "# 1. 병합 정렬(merge sort)\n",
    "- 재귀용법을 활용한 정렬 알고리즘\n",
    "  1. 리스트를 절반으로 잘라 비슷한 크기의 두 부분 리스트로 나눈다.\n",
    "  2. 각 부분 리스트를 재귀적으로 합병 정렬을 이용해 정렬한다.\n",
    "  3. 두 부분 리스트를 다시 하나의 정렬된 리스트로 합병한다."
   ]
  },
  {
   "cell_type": "markdown",
   "metadata": {},
   "source": [
    "# 2. 알고리즘 이해\n",
    "- 데이터가 네 개일 때(데이터 개수에 따라 복잡도가 떨어지는 것은 아니므로 네 개로 바로 로직 이해 수행)\n",
    "  - 예: data_list = [1, 9, 3, 2]\n",
    "    - 먼저 [1, 9], [3, 2]로 나누고\n",
    "    - 다시 앞 부분은 [1], [9]로 나누고\n",
    "    - 다시 정렬해서 합친다. [1, 9]\n",
    "    - 다음 [3, 2]는 [3], [2]로 나누고\n",
    "    - 다시 정렬해서 합친다. [2, 3]\n",
    "    - 이제 [1, 9]와 [2, 3]을 합친다."
   ]
  },
  {
   "cell_type": "markdown",
   "metadata": {},
   "source": [
    "# 3. 알고리즘 구현\n",
    "- mergesplit 함수 만들기\n",
    "  - 만약 리스트 개수가 한 개이면, 해당 값 리턴\n",
    "  - else: 리스트를 앞과 뒤, 두 개로 나누기\n",
    "  - left = mergesplit(앞)\n",
    "  - right = mergesplit(뒤)\n",
    "- merge 함수 만들기\n",
    "  - 리스트 변수 하나 만들기(sorted)\n",
    "  - left_index, right_index = 0\n",
    "  - while left_index < len(left) or right_index < len(right):\n",
    "    - 만약 left_index or right_index 이미 left or right 순회 완료 했다면, 그 반대쪽 데이터를 그대로 넣고, 해당 인덱스 1증가\n",
    "    - if left[left_index] < right[right_index]:\n",
    "      - sorted.append(left[left_index]) \n",
    "      - left_index += 1\n",
    "    - else:\n",
    "      - sorted.append(right[right_index])\n",
    "      - right_index += 1\n",
    "      "
   ]
  },
  {
   "cell_type": "markdown",
   "metadata": {},
   "source": [
    "## 연습1: 리스트를 앞뒤로 자르는 코드 작성(일반화)"
   ]
  },
  {
   "cell_type": "code",
   "execution_count": 2,
   "metadata": {},
   "outputs": [],
   "source": [
    "def split(data):\n",
    "    mid = int(len(data)/2)\n",
    "    l = data[:mid]\n",
    "    r = data[mid:]\n",
    "    print(l, r)"
   ]
  },
  {
   "cell_type": "code",
   "execution_count": 3,
   "metadata": {},
   "outputs": [
    {
     "output_type": "stream",
     "name": "stdout",
     "text": "[3, 4] [1, 3, 2]\n"
    }
   ],
   "source": [
    "data_list=[3,4,1,3,2]\n",
    "split(data_list)"
   ]
  },
  {
   "cell_type": "markdown",
   "metadata": {},
   "source": [
    "## 연습2: mergesplit"
   ]
  },
  {
   "cell_type": "code",
   "execution_count": 4,
   "metadata": {},
   "outputs": [],
   "source": [
    "def mergesplit(data):\n",
    "    if len(data)<=1:\n",
    "        return data\n",
    "    mid = int(len(data)/2)\n",
    "    l = mergesplit(data[:mid])\n",
    "    r = mergesplit(data[mid:])\n",
    "    return merge(l, r)"
   ]
  },
  {
   "cell_type": "markdown",
   "metadata": {},
   "source": [
    "## 연습3: merge"
   ]
  },
  {
   "cell_type": "code",
   "execution_count": 5,
   "metadata": {},
   "outputs": [],
   "source": [
    "def merge(l, r):\n",
    "    merged = list()\n",
    "    l_index, r_index = 0, 0\n",
    "\n",
    "    # case1: left, right 둘 다 남아있을 때\n",
    "    while len(l)>l_index and len(r)>r_index:\n",
    "        if l[l_index]>r[r_index]:\n",
    "            merged.append(r[r_index])\n",
    "            r_index += 1\n",
    "        else:\n",
    "            merged.append(l[l_index])\n",
    "            l_index += 1\n",
    "\n",
    "    # case2: left만 남아있을 때\n",
    "    while len(l)>l_index:\n",
    "        merged.append(l[l_index])\n",
    "        l_index += 1\n",
    "    \n",
    "    # case3: right만 남아있을 때\n",
    "    while len(r)>r_index:\n",
    "        merged.append(r[r_index])\n",
    "        r_index += 1\n",
    "\n",
    "    return merged\n"
   ]
  },
  {
   "cell_type": "code",
   "execution_count": 6,
   "metadata": {},
   "outputs": [
    {
     "output_type": "execute_result",
     "data": {
      "text/plain": "[6, 9, 13, 28, 40, 46, 66, 78, 82, 83]"
     },
     "metadata": {},
     "execution_count": 6
    }
   ],
   "source": [
    "import random as rd\n",
    "\n",
    "data_list = rd.sample(range(100), 10)\n",
    "\n",
    "mergesplit(data_list)"
   ]
  },
  {
   "cell_type": "markdown",
   "metadata": {},
   "source": [
    "# 4. 알고리즘 분석\n",
    "- depth: 몇 단계 깊이까지 만들어지는지, 변수 i, 맨 위 0\n",
    "  - n/(2^2) 는 depth:2\n",
    "  - 각 단계에 있는 하나의 노드 안의 리스트 길이는 n/(2^2)\n",
    "  - 각 단계는 총 2^i개의 노드\n",
    "- 각 단계는 항상 2^i * n/(2^i) = O(n)\n",
    "- 단계는 항상 log_2(n)개 만들어짐: O(logn)\n",
    "- O(n) * O(logn) = O(nlogn)"
   ]
  },
  {
   "cell_type": "code",
   "execution_count": null,
   "metadata": {},
   "outputs": [],
   "source": []
  }
 ],
 "metadata": {
  "language_info": {
   "codemirror_mode": {
    "name": "ipython",
    "version": 3
   },
   "file_extension": ".py",
   "mimetype": "text/x-python",
   "name": "python",
   "nbconvert_exporter": "python",
   "pygments_lexer": "ipython3",
   "version": "3.7.6-final"
  },
  "orig_nbformat": 2,
  "kernelspec": {
   "name": "python37364bitbaseconda5f45443dd7ea41a5835b4c0bbfa910f7",
   "display_name": "Python 3.7.3 64-bit ('base': conda)"
  }
 },
 "nbformat": 4,
 "nbformat_minor": 2
}