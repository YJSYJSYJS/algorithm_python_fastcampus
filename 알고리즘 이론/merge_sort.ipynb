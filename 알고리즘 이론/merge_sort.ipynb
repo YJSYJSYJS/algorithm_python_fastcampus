{
 "cells": [
  {
   "cell_type": "markdown",
   "metadata": {},
   "source": [
    "# 1. 병합 정렬(merge sort)\n",
    "- 재귀용법을 활용한 정렬 알고리즘\n",
    "  1. 리스트를 절반으로 잘라 비슷한 크기의 두 부분 리스트로 나눈다.\n",
    "  2. 각 부분 리스트를 재귀적으로 합병 정렬을 이용해 정렬한다.\n",
    "  3. 두 부분 리스트를 다시 하나의 정렬된 리스트로 합병한다."
   ]
  },
  {
   "cell_type": "markdown",
   "metadata": {},
   "source": [
    "# 2. 알고리즘 이해\n",
    "- 데이터가 네 개일 때(데이터 개수에 따라 복잡도가 떨어지는 것은 아니므로 네 개로 바로 로직 이해 수행)\n",
    "  - 예: data_list = [1, 9, 3, 2]\n",
    "    - 먼저 [1, 9], [3, 2]로 나누고\n",
    "    - 다시 앞 부분은 [1], [9]로 나누고\n",
    "    - 다시 정렬해서 합친다. [1, 9]\n",
    "    - 다음 [3, 2]는 [3], [2]로 나누고\n",
    "    - 다시 정렬해서 합친다. [2, 3]\n",
    "    - 이제 [1, 9]와 [2, 3]을 합친다."
   ]
  },
  {
   "cell_type": "markdown",
   "metadata": {},
   "source": [
    "# 3. 알고리즘 구현\n",
    "- mergesplit 함수 만들기\n",
    "  - 만약 리스트 개수가 한 개이면, 해당 값 리턴\n",
    "  - else: 리스트를 앞과 뒤, 두 개로 나누기\n",
    "  - left = mergesplit(앞)\n",
    "  - right = mergesplit(뒤)\n",
    "- merge 함수 만들기\n",
    "  - 리스트 변수 하나 만들기(sorted)\n",
    "  - left_index, right_index = 0\n",
    "  - while left_index < len(left) or right_index < len(right):\n",
    "    - 만약 left_index or right_index 이미 left or right 순회 완료 했다면, 그 반대쪽 데이터를 그대로 넣고, 해당 인덱스 1증가\n",
    "    - if left[left_index] < right[right_index]:\n",
    "      - sorted.append(left[left_index]) \n",
    "      - left_index += 1\n",
    "    - else:\n",
    "      - sorted.append(right[right_index])\n",
    "      - right_index += 1\n",
    "      "
   ]
  },
  {
   "cell_type": "code",
   "execution_count": null,
   "metadata": {},
   "outputs": [],
   "source": []
  }
 ],
 "metadata": {
  "language_info": {
   "codemirror_mode": {
    "name": "ipython",
    "version": 3
   },
   "file_extension": ".py",
   "mimetype": "text/x-python",
   "name": "python",
   "nbconvert_exporter": "python",
   "pygments_lexer": "ipython3",
   "version": 3
  },
  "orig_nbformat": 2
 },
 "nbformat": 4,
 "nbformat_minor": 2
}