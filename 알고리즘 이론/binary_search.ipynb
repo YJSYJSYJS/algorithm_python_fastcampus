{
 "cells": [
  {
   "cell_type": "markdown",
   "metadata": {},
   "source": [
    "# 탐색 알고리즘 2: 이진 탐색(Binary Search)"
   ]
  },
  {
   "cell_type": "markdown",
   "metadata": {},
   "source": [
    "## 1. 이진 탐색(Binary Search)이란?\n",
    "- 탐색할 자료를 둘로 나누어 해당 데이터가 있을만한 곳을 탐색하는 방법\n"
   ]
  },
  {
   "cell_type": "markdown",
   "metadata": {},
   "source": [
    "## 2. 분할 정복 알고리즘과 이진 탐색\n",
    "- 분할 정복 알고리즘(Divide and Conquer)\n",
    "  - Divide: 문제를 하나 또는 둘 이상으로 나눈다.\n",
    "  - Conquer: 나눠진 문제가 충분히 작고, 해결이 가능하다면 해결하고, 그렇지 않다면 다시 나눈다.\n",
    "- 이진 탐색\n",
    "  - Divide: 리스트를 두 개의 서브 리스트로 나눈다.\n",
    "  - Conquer:\n",
    "    - 검색할 숫자(search)>중간값: 뒷 부분의 서브리스트에서 탐색\n",
    "    - 검색할 숫자(search)<중간값: 앞 부분의 서브리스트에서 탐색\n"
   ]
  },
  {
   "cell_type": "markdown",
   "metadata": {},
   "source": [
    "## 3. 코드 구상\n",
    "- 이진 탐색은 데이터가 정렬되있는 상태에서 진행\n",
    "- ex: data_list = [2, 3, 8, 12, 20]\n",
    "  - binary_search(data_list, find_data) 함수 생성\n",
    "    - find_data: 찾을 숫자\n",
    "    - data_list의 중간값을 find_data와 비료\n",
    "      - find_data<data_list:\n",
    "        - 맨 앞부터 data_list의 중간까지 다시 탐색\n",
    "      - find_data>data_list:\n",
    "        - data_list의 중간부터 끝까지 다시 탐색\n",
    "      - else:\n",
    "        - data_list의 중간값이 find_data(return data_list 중간 위치)"
   ]
  },
  {
   "cell_type": "markdown",
   "metadata": {},
   "source": [
    "## 4. 알고리즘 구현"
   ]
  },
  {
   "cell_type": "code",
   "execution_count": 18,
   "metadata": {},
   "outputs": [],
   "source": [
    "def binarySearch(data, search):\n",
    "    print(data)\n",
    "    if len(data)== 1 and search==data[0]:\n",
    "        return True\n",
    "    if len(data)==1 and search!=data[0]:\n",
    "        return False\n",
    "    if len(data)==0:\n",
    "        return False\n",
    "\n",
    "    mid = len(data)//2\n",
    "    if search==data[mid]:\n",
    "        return True\n",
    "    elif search<data[mid]:\n",
    "        return binarySearch(data[:mid], search)\n",
    "    else:\n",
    "        return binarySearch(data[mid:], search)"
   ]
  },
  {
   "cell_type": "code",
   "execution_count": 19,
   "metadata": {},
   "outputs": [
    {
     "output_type": "execute_result",
     "data": {
      "text/plain": "[32, 91, 17, 59, 80, 56, 3, 30, 18, 85]"
     },
     "metadata": {},
     "execution_count": 19
    }
   ],
   "source": [
    "import random as rd\n",
    "\n",
    "data_list = rd.sample(range(100), 10)\n",
    "data_list"
   ]
  },
  {
   "cell_type": "code",
   "execution_count": 20,
   "metadata": {},
   "outputs": [
    {
     "output_type": "execute_result",
     "data": {
      "text/plain": "[3, 17, 18, 30, 32, 56, 59, 80, 85, 91]"
     },
     "metadata": {},
     "execution_count": 20
    }
   ],
   "source": [
    "data_list.sort()\n",
    "data_list"
   ]
  },
  {
   "cell_type": "code",
   "execution_count": 21,
   "metadata": {},
   "outputs": [
    {
     "output_type": "stream",
     "name": "stdout",
     "text": "[3, 17, 18, 30, 32, 56, 59, 80, 85, 91]\n[3, 17, 18, 30, 32]\n[18, 30, 32]\n[30, 32]\n[32]\nFalse\n"
    }
   ],
   "source": [
    "print(binarySearch(data_list, 50))"
   ]
  },
  {
   "cell_type": "code",
   "execution_count": null,
   "metadata": {},
   "outputs": [],
   "source": []
  }
 ],
 "metadata": {
  "language_info": {
   "codemirror_mode": {
    "name": "ipython",
    "version": 3
   },
   "file_extension": ".py",
   "mimetype": "text/x-python",
   "name": "python",
   "nbconvert_exporter": "python",
   "pygments_lexer": "ipython3",
   "version": "3.7.6-final"
  },
  "orig_nbformat": 2,
  "kernelspec": {
   "name": "python37364bitbaseconda5f45443dd7ea41a5835b4c0bbfa910f7",
   "display_name": "Python 3.7.3 64-bit ('base': conda)"
  }
 },
 "nbformat": 4,
 "nbformat_minor": 2
}