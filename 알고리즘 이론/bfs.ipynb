{
 "cells": [
  {
   "cell_type": "markdown",
   "metadata": {},
   "source": [
    "# BFS(Breadth-irst Search, 너비 우선 탐색"
   ]
  },
  {
   "cell_type": "markdown",
   "metadata": {},
   "source": [
    "## 1. BFS, DFS\n",
    "- 대표적인 그래프 탐색 알고리즘\n",
    "  - BFS: 정점들과 같은 레벨에 있는 노드들(형제 노드)을 먼저 탐색\n",
    "  - DFS: 정점의 자식들을 먼저 탐색"
   ]
  },
  {
   "cell_type": "markdown",
   "metadata": {},
   "source": [
    "## 2. 파이썬으로 그래프 표현하는 방법\n",
    "- 파이썬에서 제공하는 딕셔너리와 리스트 자료 구조를 활용해서 그래프 표현 가능"
   ]
  },
  {
   "cell_type": "code",
   "execution_count": 32,
   "metadata": {},
   "outputs": [],
   "source": [
    "graph = dict()\n",
    "\n",
    "graph['A'] = [\"B\", \"C\"]\n",
    "graph['B'] = [\"A\", \"D\"]\n",
    "graph['C'] = [\"A\", \"G\", 'H', 'I']\n",
    "graph['D'] = [\"B\", \"E\", 'F']\n",
    "graph['E'] = [\"D\"]\n",
    "graph['F'] = [\"D\"]\n",
    "graph['G'] = [\"C\"]\n",
    "graph['H'] = [\"C\"]\n",
    "graph['I'] = [\"B\", \"C\"]\n"
   ]
  },
  {
   "cell_type": "code",
   "execution_count": null,
   "metadata": {},
   "outputs": [],
   "source": []
  }
 ],
 "metadata": {
  "language_info": {
   "codemirror_mode": {
    "name": "ipython",
    "version": 3
   },
   "file_extension": ".py",
   "mimetype": "text/x-python",
   "name": "python",
   "nbconvert_exporter": "python",
   "pygments_lexer": "ipython3",
   "version": "3.7.6-final"
  },
  "orig_nbformat": 2,
  "kernelspec": {
   "name": "python37364bitbaseconda5f45443dd7ea41a5835b4c0bbfa910f7",
   "display_name": "Python 3.7.3 64-bit ('base': conda)"
  }
 },
 "nbformat": 4,
 "nbformat_minor": 2
}