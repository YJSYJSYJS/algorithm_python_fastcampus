{
 "cells": [
  {
   "cell_type": "markdown",
   "metadata": {},
   "source": [
    "# 대표적인 정렬1: Bubble sort\n",
    "## 알고리즘 연습방법\n",
    " - 알고리즘을 잘 작성하기 위해서는 잘 작성된 알고리즘을 이해하고, 스스로 만들어봐야 함.\n",
    "1. 연습장과 펜 준비!\n",
    "2. 알고리즘 문제를 읽고 분석한 후에\n",
    "3. 간단하게 테스트용으로 매우 간단한 경우부터 복잡한 경우 순서대로 생각해보면서, 연습장과 펜을 이용하여 알고리즘을 생각\n",
    "4. 가능한 알고리즘이 보인다면, 구현할 알고리즘을 세부 항목으로 나누고, 문장으로 세부 항목을 나누어서 적어본다.\n",
    "5. 코드화하기 위해, 데이터 구조 또는 사용할 변수를 정리하고,\n",
    "6. 각 문장을 코드 레벨로 적는다.\n",
    "7. 데이터 구조 또는 사용할 변수가 코드에 따라 어떻게 변하는지를 손으로 적으면서, 임의 데이터로 코드가 정상 동작하는지를 연습장과 펜으로 검증한다."
   ]
  },
  {
   "cell_type": "markdown",
   "metadata": {},
   "source": [
    "1. 정렬(sorting)이란?\n",
    " - 정렬(sorting): 어떤 데이터들이 주어졌을 때 이를 정해진 순서대로 나열하는 것\n",
    " - 정렬은 프로그램 작성시 빈번하게 필요로 함\n",
    " - 다양한 알고리즘이 고안되었으며, 알고리즘 학습에 필수적\n",
    "  "
   ]
  },
  {
   "cell_type": "markdown",
   "metadata": {},
   "source": [
    "2. 버블정렬(bubble sort)이란?\n",
    " - 두 인접한 데이터를 비교"
   ]
  },
  {
   "cell_type": "markdown",
   "metadata": {},
   "source": [
    "3. bubble sort pseudo code\n",
    "\n"
   ]
  },
  {
   "cell_type": "code",
   "execution_count": 2,
   "metadata": {},
   "outputs": [],
   "source": [
    "# for index in range(데이터 길이 -1):\n",
    "#     for index2 in range(데이터 길이 -1):\n",
    "#         if 앞데이터 > 뒤데이터:\n",
    "#             swap(앞 데이터, 뒤 데이터)"
   ]
  },
  {
   "cell_type": "markdown",
   "metadata": {},
   "source": [
    "4. optimization 1: 순회 범위가 한칸씩 줄어드는 것을 반영"
   ]
  },
  {
   "cell_type": "code",
   "execution_count": 3,
   "metadata": {},
   "outputs": [],
   "source": [
    "# for index in range(데이터 길이 -1):\n",
    "#     for index2 in range(데이터 길이 - index -1):\n",
    "#         if 앞데이터 > 뒤데이터:\n",
    "#             swap(앞 데이터, 뒤 데이터)"
   ]
  },
  {
   "cell_type": "markdown",
   "metadata": {},
   "source": [
    "5. optimization 2: swap이 전혀 이루어지지 않는 순회가 있을 경우 sort를 끝낸다."
   ]
  },
  {
   "cell_type": "markdown",
   "metadata": {},
   "source": [
    " 1. for num in range(len(data_list)) 반복\n",
    " 2. swap = 0 (교환 여부를 확인하는 변수 설정))\n",
    " 3. 반복문 안에서, for index in range(len(data_list) - num - 1)을 (n-1) 번 반복 \n",
    " 4. 반복문 안의 반복문 안에서, if data_list[index]>data_list[index + 1] 이면\n",
    " 5. data_list[index], data_list[index+1] = data_list[index+1], data_list[index]\n",
    " 6. swap += 1\n",
    " 7. 반복문 안에서, if swap == 0 이면, break(끝)"
   ]
  },
  {
   "cell_type": "code",
   "execution_count": 4,
   "metadata": {},
   "outputs": [],
   "source": [
    "def bubblesort(data):\n",
    "    for index in range(len(data) -1):\n",
    "        swap = False\n",
    "        for index2 in range(len(data) - index - 1):\n",
    "            if data[index2]>data[index2+1]:\n",
    "                data[index2], data[index2 + 1] = data_list[index2+1], data_list[index2]\n",
    "                swap = True\n",
    "        if swap == False:\n",
    "            break\n",
    "    return data"
   ]
  },
  {
   "cell_type": "code",
   "execution_count": 5,
   "metadata": {},
   "outputs": [
    {
     "output_type": "stream",
     "name": "stdout",
     "text": "[2, 4, 7, 9, 11, 12, 18, 19, 20, 21, 23, 24, 25, 31, 33, 36, 38, 39, 40, 41, 42, 44, 45, 49, 56, 57, 58, 59, 60, 63, 65, 66, 67, 68, 69, 70, 74, 75, 79, 80, 83, 85, 87, 89, 90, 91, 93, 95, 98, 99]\n"
    }
   ],
   "source": [
    "import random as rd\n",
    "data_list = rd.sample(range(100), 50)\n",
    "print(bubblesort(data_list))"
   ]
  },
  {
   "cell_type": "markdown",
   "metadata": {},
   "source": [
    "# 알고리즘 분석\n",
    " - 반복문이 두개 : O(n**2)\n",
    " - 최악: n(n-1)/2\n",
    " - 완전 정렬이 되어 있는 최선의 경우: O(n))"
   ]
  },
  {
   "cell_type": "code",
   "execution_count": null,
   "metadata": {},
   "outputs": [],
   "source": []
  }
 ],
 "metadata": {
  "language_info": {
   "codemirror_mode": {
    "name": "ipython",
    "version": 3
   },
   "file_extension": ".py",
   "mimetype": "text/x-python",
   "name": "python",
   "nbconvert_exporter": "python",
   "pygments_lexer": "ipython3",
   "version": "3.8.2-final"
  },
  "orig_nbformat": 2,
  "kernelspec": {
   "name": "python38264bit8424580873354fc3a306069dccf17a2c",
   "display_name": "Python 3.8.2 64-bit"
  }
 },
 "nbformat": 4,
 "nbformat_minor": 2
}