{
 "cells": [
  {
   "cell_type": "markdown",
   "metadata": {},
   "source": [
    "# Understanding of Backtracking"
   ]
  },
  {
   "cell_type": "markdown",
   "metadata": {},
   "source": [
    "## 1. Backtracking?\n",
    " - Backtracking or  backtrack, 백트래킹, 퇴각검색...\n",
    " - 제약 조건 만족 문제(Constraint Satisfaction Problem)에서 해를 찾기 위한 전략\n",
    "   - 해를 찾기 위해, 후보군에 제약 조건을 점진적으로 체크해나가다가, 해당 후보군이 제약 조건을 만족할 수 없다고 판단되는 즉시 Backtrack(이 후보군을 다시는 체크하지 않을 것을 표기)하고, 바로 다른 후보군으로 넘어가며, 결국 최적의 해를 찾는 방법\n",
    " - 실제 구현시, 고려할 수 있는 모든 경우의 수(후보군)를 상태공간트리(State Space Tree)로 표현\n",
    "   - 각 후보군을 DFS 방식으로 확인\n",
    "   - 상태 공간 트리를 탐색하면서, 제약 조건에 맞지 않으면 해의 후보가 될만한 곳으로 바로 넘어가서 탐색\n",
    "     - Promising: 해당 루트가 조건에 맞는지 검사\n",
    "     - Pruning(가지치기): 조건에 맞지 않으면 포기하고 바로 다른 루트로 가서, 탐색의 시간을 절약\n",
    " \n",
    " > 즉, 백트래킹은 트리 구조를 기반으로 DFS로 진행하면서, 각 루트에 대해 조건에 부합하는지 체크(Promising), 만약 해당 트리에서 조건에 맞지 않는 노드는 더이상 DFS로 깊이 탐색을 진행하지 않고 Pruning "
   ]
  },
  {
   "cell_type": "markdown",
   "metadata": {},
   "source": [
    "### State Space Tree(상태 공간 트리)\n",
    " - 문제 해결 과정의 중간 상태를 각각의 노드로 나타낸 트리\n",
    " "
   ]
  },
  {
   "cell_type": "markdown",
   "metadata": {},
   "source": [
    "## 2 Understanding of N-Queen Problem\n",
    " - 대표적인 백트래킹 문제\n",
    " - NxN 크기의 체스판에 N개의 퀸을 서로 공격할 수 없도록 배치\n",
    " - 퀸은 가로, 세로, 대각선으로 무한정(길이 제한X) 이동할 수 있고, 배치된 퀸 간에 공격할 수 없는 위치로 배치해야한다."
   ]
  },
  {
   "cell_type": "code",
   "execution_count": null,
   "metadata": {},
   "outputs": [],
   "source": []
  },
  {
   "cell_type": "markdown",
   "metadata": {},
   "source": [
    "### Pruning(가지치기) for N Queens Problem\n",
    " - 한 행에는 하나의 퀸만 위치할 수 있다.(수평 이동 가능하므로)\n",
    " - 맨 위에 있는 행부터 퀸을 배치해나가고, 다음 행에 해당 퀸이 이동할 수 없는 위치를 찾아서 배치해나가자\n",
    " - 만약 앞선 행에 배치한 퀸으로 인해 다음 행에 해당 퀸들이 이동할 수 있는 위치가 없을 때는, 더이상 배치하지 않고, 이전 행의 퀸의 배치를 변경\n",
    "   - 즉, 맨 위의 행부터 가장 아래의 행까지 퀸의 배치가 가능한 경우의 수를 상태 공간 트리 형태로 만든 다음\n",
    "   - 각 경우를 맨 위의 행부터 DFS 방식으로 접근, 해당 경우가 진행이 어려울 경우, 더 이상 진행하지 않고, 다른 경우를 체크하는 방식\n",
    "   "
   ]
  },
  {
   "cell_type": "markdown",
   "metadata": {},
   "source": [
    "### Promising for N Queens Problem\n",
    " - 해당 루트가 조건에 맞는지를 검사\n",
    " - 현재까지 앞선 행에서 배치한 퀸이 이동할 수 없는 위치가 있는지 다음 조건들로 확인\n",
    "   - 한 행에 하나의 퀸만 배치가능 -> 수평 체크는 크게 필요하지 않다.\n",
    "   - 수직 체크\n",
    "   - 대각선 체크\n",
    "   "
   ]
  }
 ],
 "metadata": {
  "language_info": {
   "codemirror_mode": {
    "name": "ipython",
    "version": 3
   },
   "file_extension": ".py",
   "mimetype": "text/x-python",
   "name": "python",
   "nbconvert_exporter": "python",
   "pygments_lexer": "ipython3",
   "version": 3
  },
  "orig_nbformat": 2
 },
 "nbformat": 4,
 "nbformat_minor": 2
}