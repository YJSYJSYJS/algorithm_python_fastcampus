{
 "cells": [
  {
   "cell_type": "markdown",
   "metadata": {},
   "source": [
    "# 1. Recursive call\n",
    "> 고급 정렬 알고리즘에서 재귀 용법을 사용하므로 ,고급정렬 알고리즘을 익히기 전에 익혀둬야함\n",
    " - 함수 안에서 동일한 함수를 호출하는 형태\n",
    " - 여러 알고리즘 작성시 사용된다."
   ]
  },
  {
   "cell_type": "markdown",
   "metadata": {},
   "source": [
    "# 2. 예제로 이해(factorial))\n",
    " - 간단한 경우부터 생각\n",
    "   - 2! = 1 X 2\n",
    "   - 3! = 1 X 2 X 3\n",
    "   - 4! = 1 X 2 X 3 X 4\n",
    " - 패턴: n! = n X (n-1)!\n",
    "   1. 함수를 하나 생성\n",
    "   2. 함수(n)은 n>1 이면 return n X 함수(n-1))\n",
    "   3. n==1, return n\n",
    " - 검증(코드부터 검증하지 않고, 먼저 직접 대입해가면서 검증해본다.)\n",
    "   1. 2!\n",
    "     - f(2), 2>1, 2 X f(1)\n",
    "     - f(1) = 1, return 2 X 1 = 2 (O)\n",
    "   2. 3!\n",
    "     - f(3), 3>1, 3 X f(2)\n",
    "     - f(2) = 2(by 1.), return 2 X 1 = 2\n",
    "     - 3 X f(2) = 3 X 2 = 3 X 2 X 1 = 6 (O)\n",
    "   3. 4!\n",
    "     - f(4), 4>1, 4 X f(3)\n",
    "     - f(3) = 3 X 2 X 1 = 6 (by 2.)\n",
    "     - 4 X f(3) = 4 X 6 = 24 (O)"
   ]
  },
  {
   "cell_type": "markdown",
   "metadata": {},
   "source": [
    "# 3. code"
   ]
  },
  {
   "cell_type": "code",
   "execution_count": 54,
   "metadata": {},
   "outputs": [],
   "source": [
    "def fac(n):\n",
    "    if n>1:\n",
    "        return n*fac(n-1)\n",
    "    else:\n",
    "        return n"
   ]
  },
  {
   "cell_type": "code",
   "execution_count": 55,
   "metadata": {},
   "outputs": [
    {
     "output_type": "stream",
     "name": "stdout",
     "text": "0\n1\n2\n6\n24\n120\n720\n5040\n40320\n362880\n"
    }
   ],
   "source": [
    "for n in range(10):\n",
    "    print(fac(n))"
   ]
  },
  {
   "cell_type": "markdown",
   "metadata": {},
   "source": [
    "## time_space complexity\n",
    " - fac(n)은 n-1 번의 fac() 함수를 호출해서, 곱셈을 한다.\n",
    "   - 일종의 n-1 번 반복문을 호출한 것과 동일\n",
    "   - fac() 함수를 호출할 때마다, 지역변수 n이 생성됨\n",
    "   \n",
    " - 시간 복잡도/공간 복잡도는 O(n-1)이므로 결국, 둘 다 \"O(n)\""
   ]
  },
  {
   "cell_type": "markdown",
   "metadata": {},
   "source": [
    "# 4. 재귀호출의 일반적인 형태"
   ]
  },
  {
   "cell_type": "code",
   "execution_count": 56,
   "metadata": {},
   "outputs": [],
   "source": [
    "# def func(입력):\n",
    "#     if 입력>일정값:\n",
    "#         return func(입력 - 1)\n",
    "#     else:\n",
    "#         return 일정값 # 재귀 호출 종료"
   ]
  },
  {
   "cell_type": "code",
   "execution_count": 57,
   "metadata": {},
   "outputs": [],
   "source": [
    "# def func2(입력):\n",
    "#     if 입력<=일정값:\n",
    "#         return 일정값, 입력값, 또는 특정값 # 재귀 호출 종료\n",
    "#     func2(입력보다 작은 값)\n",
    "#     return 결과값\n"
   ]
  },
  {
   "cell_type": "markdown",
   "metadata": {},
   "source": [
    "### 예제 다른 형태로 구현해보기"
   ]
  },
  {
   "cell_type": "code",
   "execution_count": 58,
   "metadata": {},
   "outputs": [],
   "source": [
    "def fac2(n):\n",
    "    if n<=1:\n",
    "        return n\n",
    "    return_val = n*fac2(n-1)\n",
    "    return return_val"
   ]
  },
  {
   "cell_type": "code",
   "execution_count": 59,
   "metadata": {},
   "outputs": [
    {
     "output_type": "stream",
     "name": "stdout",
     "text": "0\n1\n2\n6\n24\n120\n720\n5040\n40320\n362880\n"
    }
   ],
   "source": [
    "for n in range(10):\n",
    "    print(fac2(n))"
   ]
  },
  {
   "cell_type": "markdown",
   "metadata": {},
   "source": [
    "# 재귀는 스택의 전형적인 예시이다!\n",
    " - 함수들은 내부적으로 스택으로 처리된다.\n",
    " - Pythonn은 재귀 회수가 1000회가 넘으면 에러를 발생시킴"
   ]
  },
  {
   "cell_type": "markdown",
   "metadata": {},
   "source": [
    "# 5. 재귀 용법을 활용한 프로그래밍 연습"
   ]
  },
  {
   "cell_type": "markdown",
   "metadata": {},
   "source": [
    "## 연습1\n",
    "### 재귀를 활용해서 1부터 num까지의 곱 출력"
   ]
  },
  {
   "cell_type": "code",
   "execution_count": 89,
   "metadata": {},
   "outputs": [],
   "source": [
    "def mult(n):\n",
    "    result = 1\n",
    "    for i in range(1, n+1):\n",
    "        result = result * i\n",
    "    return result\n"
   ]
  },
  {
   "cell_type": "code",
   "execution_count": 90,
   "metadata": {},
   "outputs": [
    {
     "output_type": "execute_result",
     "data": {
      "text/plain": "120"
     },
     "metadata": {},
     "execution_count": 90
    }
   ],
   "source": [
    "mult(5)"
   ]
  },
  {
   "cell_type": "code",
   "execution_count": 62,
   "metadata": {},
   "outputs": [],
   "source": [
    "def rmul(n):\n",
    "    if n<=1:\n",
    "        return n\n",
    "    else:\n",
    "        return n*rmul(n-1)\n"
   ]
  },
  {
   "cell_type": "code",
   "execution_count": 63,
   "metadata": {},
   "outputs": [
    {
     "output_type": "execute_result",
     "data": {
      "text/plain": "120"
     },
     "metadata": {},
     "execution_count": 63
    }
   ],
   "source": [
    "rmul(5)"
   ]
  },
  {
   "cell_type": "markdown",
   "metadata": {},
   "source": [
    "## 연습2\n",
    "### 숫자 리스트의 합을 리턴하는 함수"
   ]
  },
  {
   "cell_type": "code",
   "execution_count": 64,
   "metadata": {},
   "outputs": [],
   "source": [
    "def suml(l):\n",
    "    if len(l)<=1:\n",
    "        return l[0]\n",
    "    else:\n",
    "        return l[0]+suml(l[1:])"
   ]
  },
  {
   "cell_type": "code",
   "execution_count": 69,
   "metadata": {},
   "outputs": [],
   "source": [
    "import random as rd\n",
    "data = rd.sample(range(100), 10)"
   ]
  },
  {
   "cell_type": "code",
   "execution_count": 70,
   "metadata": {},
   "outputs": [
    {
     "output_type": "stream",
     "name": "stdout",
     "text": "[77, 48, 70, 84, 39, 66, 15, 73, 41, 51]\n"
    }
   ],
   "source": [
    "print(data)"
   ]
  },
  {
   "cell_type": "code",
   "execution_count": 71,
   "metadata": {},
   "outputs": [
    {
     "output_type": "execute_result",
     "data": {
      "text/plain": "564"
     },
     "metadata": {},
     "execution_count": 71
    }
   ],
   "source": [
    "suml(data)"
   ]
  },
  {
   "cell_type": "markdown",
   "metadata": {},
   "source": [
    "## 연습 3\n",
    "### 회문(palindrome, ex:'level') 판별 함수(리스트 슬라이싱 활용)"
   ]
  },
  {
   "cell_type": "code",
   "execution_count": 84,
   "metadata": {},
   "outputs": [],
   "source": [
    "def is_pal(s: str)->bool:\n",
    "    if len(s) <= 1:\n",
    "        return True\n",
    "    elif s[-1] == s[0]:\n",
    "        return is_pal(s[1:-1])\n",
    "    else:\n",
    "        return False"
   ]
  },
  {
   "cell_type": "code",
   "execution_count": 85,
   "metadata": {},
   "outputs": [
    {
     "output_type": "execute_result",
     "data": {
      "text/plain": "True"
     },
     "metadata": {},
     "execution_count": 85
    }
   ],
   "source": [
    "string1 = 'level'\n",
    "string1 = list(string1)\n",
    "is_pal(string1)"
   ]
  },
  {
   "cell_type": "code",
   "execution_count": 88,
   "metadata": {},
   "outputs": [
    {
     "output_type": "execute_result",
     "data": {
      "text/plain": "False"
     },
     "metadata": {},
     "execution_count": 88
    }
   ],
   "source": [
    "string2 = 'abcaa'\n",
    "string2 = list(string2)\n",
    "is_pal(string2)\n"
   ]
  },
  {
   "cell_type": "code",
   "execution_count": null,
   "metadata": {},
   "outputs": [],
   "source": []
  }
 ],
 "metadata": {
  "language_info": {
   "codemirror_mode": {
    "name": "ipython",
    "version": 3
   },
   "file_extension": ".py",
   "mimetype": "text/x-python",
   "name": "python",
   "nbconvert_exporter": "python",
   "pygments_lexer": "ipython3",
   "version": "3.8.2-final"
  },
  "orig_nbformat": 2,
  "kernelspec": {
   "name": "python38264bit8424580873354fc3a306069dccf17a2c",
   "display_name": "Python 3.8.2 64-bit"
  }
 },
 "nbformat": 4,
 "nbformat_minor": 2
}