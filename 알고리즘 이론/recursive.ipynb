{
 "cells": [
  {
   "cell_type": "markdown",
   "metadata": {},
   "source": [
    "# 1. Recursive call\n",
    "> 고급 정렬 알고리즘에서 재귀 용법을 사용하므로 ,고급정렬 알고리즘을 익히기 전에 익혀둬야함\n",
    " - 함수 안에서 동일한 함수를 호출하는 형태\n",
    " - 여러 알고리즘 작성시 사용된다."
   ]
  },
  {
   "cell_type": "markdown",
   "metadata": {},
   "source": [
    "# 2. 예제로 이해(factorial))\n",
    " - 간단한 경우부터 생각\n",
    "   - 2! = 1 X 2\n",
    "   - 3! = 1 X 2 X 3\n",
    "   - 4! = 1 X 2 X 3 X 4\n",
    " - 패턴: n! = n X (n-1)!\n",
    "   1. 함수를 하나 생성\n",
    "   2. 함수(n)은 n>1 이면 return n X 함수(n-1))\n",
    "   3. n==1, return n\n",
    " - 검증(코드부터 검증하지 않고, 먼저 직접 대입해가면서 검증해본다.)\n",
    "   1. 2!\n",
    "     - f(2), 2>1, 2 X f(1)\n",
    "     - f(1) = 1, return 2 X 1 = 2 (O)\n",
    "   2. 3!\n",
    "     - f(3), 3>1, 3 X f(2)\n",
    "     - f(2) = 2(by 1.), return 2 X 1 = 2\n",
    "     - 3 X f(2) = 3 X 2 = 3 X 2 X 1 = 6 (O)\n",
    "   3. 4!\n",
    "     - f(4), 4>1, 4 X f(3)\n",
    "     - f(3) = 3 X 2 X 1 = 6 (by 2.)\n",
    "     - 4 X f(3) = 4 X 6 = 24 (O)"
   ]
  },
  {
   "cell_type": "markdown",
   "metadata": {},
   "source": [
    "# 3. code"
   ]
  },
  {
   "cell_type": "code",
   "execution_count": 22,
   "metadata": {},
   "outputs": [],
   "source": [
    "def fac(n):\n",
    "    if n>1:\n",
    "        return n*fac(n-1)\n",
    "    else:\n",
    "        return n"
   ]
  },
  {
   "cell_type": "code",
   "execution_count": 23,
   "metadata": {},
   "outputs": [
    {
     "output_type": "stream",
     "name": "stdout",
     "text": "0\n1\n2\n6\n24\n120\n720\n5040\n40320\n362880\n"
    }
   ],
   "source": [
    "for n in range(10):\n",
    "    print(fac(n))"
   ]
  },
  {
   "cell_type": "markdown",
   "metadata": {},
   "source": [
    "## time_space complexity\n",
    " - fac(n)은 n-1 번의 fac() 함수를 호출해서, 곱셈을 한다.\n",
    "   - 일종의 n-1 번 반복문을 호출한 것과 동일\n",
    "   - fac() 함수를 호출할 때마다, 지역변수 n이 생성됨\n",
    "   \n",
    " - 시간 복잡도/공간 복잡도는 O(n-1)이므로 결국, 둘 다 \"O(n)\""
   ]
  },
  {
   "cell_type": "markdown",
   "metadata": {},
   "source": [
    "# 4. 재귀호출의 일반적인 형태"
   ]
  },
  {
   "cell_type": "code",
   "execution_count": 25,
   "metadata": {},
   "outputs": [],
   "source": [
    "# def func(입력):\n",
    "#     if 입력>일정값:\n",
    "#         return func(입력 - 1)\n",
    "#     else:\n",
    "#         return 일정값 # 재귀 호출 종료"
   ]
  },
  {
   "cell_type": "code",
   "execution_count": 26,
   "metadata": {},
   "outputs": [],
   "source": [
    "# def func2(입력):\n",
    "#     if 입력<=일정값:\n",
    "#         return 일정값, 입력값, 또는 특정값 # 재귀 호출 종료\n",
    "#     func2(입력보다 작은 값)\n",
    "#     return 결과값\n"
   ]
  },
  {
   "cell_type": "markdown",
   "metadata": {},
   "source": [
    "### 예제 다른 형태로 구현해보기"
   ]
  },
  {
   "cell_type": "code",
   "execution_count": 28,
   "metadata": {},
   "outputs": [],
   "source": [
    "def fac2(n):\n",
    "    if n<=1:\n",
    "        return n\n",
    "    return_val = n*fac2(n-1)\n",
    "    return return_val"
   ]
  },
  {
   "cell_type": "code",
   "execution_count": 29,
   "metadata": {},
   "outputs": [
    {
     "output_type": "stream",
     "name": "stdout",
     "text": "0\n1\n2\n6\n24\n120\n720\n5040\n40320\n362880\n"
    }
   ],
   "source": [
    "for n in range(10):\n",
    "    print(fac2(n))"
   ]
  },
  {
   "cell_type": "markdown",
   "metadata": {},
   "source": [
    "# 재귀는 스택의 전형적인 예시이다!\n",
    " - 함수들은 내부적으로 스택으로 처리된다.\n",
    " - Pythonn은 재귀 회수가 1000회가 넘으면 에러를 발생시킴"
   ]
  },
  {
   "cell_type": "code",
   "execution_count": null,
   "metadata": {},
   "outputs": [],
   "source": []
  },
  {
   "cell_type": "code",
   "execution_count": null,
   "metadata": {},
   "outputs": [],
   "source": []
  }
 ],
 "metadata": {
  "language_info": {
   "codemirror_mode": {
    "name": "ipython",
    "version": 3
   },
   "file_extension": ".py",
   "mimetype": "text/x-python",
   "name": "python",
   "nbconvert_exporter": "python",
   "pygments_lexer": "ipython3",
   "version": "3.8.2-final"
  },
  "orig_nbformat": 2,
  "kernelspec": {
   "name": "python38264bit8424580873354fc3a306069dccf17a2c",
   "display_name": "Python 3.8.2 64-bit"
  }
 },
 "nbformat": 4,
 "nbformat_minor": 2
}