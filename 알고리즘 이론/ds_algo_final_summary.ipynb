{
 "cells": [
  {
   "cell_type": "markdown",
   "metadata": {},
   "source": [
    "# Datastructure & Algorithm"
   ]
  },
  {
   "cell_type": "markdown",
   "metadata": {},
   "source": [
    "## Datastructure\n",
    " - array, Queue, Stack, Linked List, Hash Table\n",
    " - Tree, Binary Search Tree, Heap"
   ]
  },
  {
   "cell_type": "markdown",
   "metadata": {},
   "source": [
    "## Algorithm\n",
    "- Sort\n",
    "  - Bubble, Selection, Insertion, Merge, Quick\n",
    "- Search\n",
    "  - Sequential, Binary\n",
    "- Graph\n",
    "  - BFS, DFS\n",
    "  - Shortest Path\n",
    "    - Dijkstra\n",
    "  - MST(Minimum Spaning Tree)\n",
    "    - Kruskal, Prim\n",
    "- Strategy\n",
    "  - Recursion, Divide and Conquer, Dynamic Programming, Greedy Algorithm, Backtracking\n"
   ]
  },
  {
   "cell_type": "markdown",
   "metadata": {},
   "source": [
    "## Furthur Study\n",
    "- Repeat!\n",
    "  - coding test site\n",
    "  - study concepts DFS-like\n",
    "  - use Pen and Note!\n",
    "  "
   ]
  },
  {
   "cell_type": "code",
   "execution_count": null,
   "metadata": {},
   "outputs": [],
   "source": []
  }
 ],
 "metadata": {
  "language_info": {
   "codemirror_mode": {
    "name": "ipython",
    "version": 3
   },
   "file_extension": ".py",
   "mimetype": "text/x-python",
   "name": "python",
   "nbconvert_exporter": "python",
   "pygments_lexer": "ipython3",
   "version": "3.7.6-final"
  },
  "orig_nbformat": 2,
  "kernelspec": {
   "name": "python37364bitbaseconda5f45443dd7ea41a5835b4c0bbfa910f7",
   "display_name": "Python 3.7.3 64-bit ('base': conda)"
  }
 },
 "nbformat": 4,
 "nbformat_minor": 2
}