{
 "cells": [
  {
   "cell_type": "markdown",
   "metadata": {},
   "source": [
    "# 대표적인 정렬5: Quick Sort"
   ]
  },
  {
   "cell_type": "markdown",
   "metadata": {},
   "source": [
    "## 1. What is quick sort?\n",
    " - 정렬 알고리즘의 꽃\n",
    " - 기준점(pivot)을 정해서, 기준점보다 작은 데이터는 left, 큰 데이터는 right로 모으는 함수 작성\n",
    " - 각 left, right를 재귀를 통해 다시 동일 함수를 호출하여 위 작업을 반복\n",
    " - return left + pivot + right"
   ]
  },
  {
   "cell_type": "markdown",
   "metadata": {},
   "source": [
    "## 2. Code "
   ]
  },
  {
   "cell_type": "markdown",
   "metadata": {},
   "source": [
    "### practice1 "
   ]
  },
  {
   "cell_type": "code",
   "execution_count": 1,
   "metadata": {},
   "outputs": [],
   "source": [
    "def qsort(data):\n",
    "    if len(data)<=1:\n",
    "        return data\n",
    "    \n",
    "    left, right = list(), list()\n",
    "    pivot = data[0]\n",
    "\n",
    "    for i in range(1, len(data)):\n",
    "        if data[i]<pivot:\n",
    "            left.append(data[i])\n",
    "        else:\n",
    "            right.append(data[i])\n",
    "\n",
    "    return qsort(left) + [pivot] + qsort(right)"
   ]
  },
  {
   "cell_type": "code",
   "execution_count": 2,
   "metadata": {},
   "outputs": [
    {
     "output_type": "stream",
     "name": "stdout",
     "text": "[97, 62, 9, 55, 18, 82, 87, 45, 42, 20]\n"
    }
   ],
   "source": [
    "import random as rd\n",
    "\n",
    "data_l = rd.sample(range(100), 10)\n",
    "print(data_l)"
   ]
  },
  {
   "cell_type": "code",
   "execution_count": 4,
   "metadata": {},
   "outputs": [
    {
     "output_type": "execute_result",
     "data": {
      "text/plain": "[9, 18, 20, 42, 45, 55, 62, 82, 87, 97]"
     },
     "metadata": {},
     "execution_count": 4
    }
   ],
   "source": [
    "qsort(data_l)"
   ]
  },
  {
   "cell_type": "markdown",
   "metadata": {},
   "source": [
    "### practice2: list comprehension"
   ]
  },
  {
   "cell_type": "code",
   "execution_count": 8,
   "metadata": {},
   "outputs": [],
   "source": [
    "def qsort2(data):\n",
    "    if len(data)<=1:\n",
    "        return data\n",
    "    \n",
    "    p = data[0]\n",
    "\n",
    "    l = [item for item in data[1:] if p>item]\n",
    "    r = [item for item in data[1:] if p<=item]\n",
    "\n",
    "    return qsort2(l)+[p]+qsort2(r)"
   ]
  },
  {
   "cell_type": "code",
   "execution_count": 9,
   "metadata": {},
   "outputs": [
    {
     "output_type": "execute_result",
     "data": {
      "text/plain": "[9, 18, 20, 42, 45, 55, 62, 82, 87, 97]"
     },
     "metadata": {},
     "execution_count": 9
    }
   ],
   "source": [
    "qsort2(data_l)"
   ]
  },
  {
   "cell_type": "markdown",
   "metadata": {},
   "source": [
    "## 4. 알고리즘 분석\n",
    " - 병합정렬과 유사, 시간복잡도는 O(nlogn)\n",
    "   - 단, 최악의 경우\n",
    "     - 맨 처음 pivot이 가장 크거나, 가장 작은 경우\n",
    "     - 모든 데이터를 비교\n",
    "     - O(n**2)"
   ]
  }
 ],
 "metadata": {
  "language_info": {
   "codemirror_mode": {
    "name": "ipython",
    "version": 3
   },
   "file_extension": ".py",
   "mimetype": "text/x-python",
   "name": "python",
   "nbconvert_exporter": "python",
   "pygments_lexer": "ipython3",
   "version": "3.7.6-final"
  },
  "orig_nbformat": 2,
  "kernelspec": {
   "name": "python37364bitbaseconda5f45443dd7ea41a5835b4c0bbfa910f7",
   "display_name": "Python 3.7.3 64-bit ('base': conda)"
  }
 },
 "nbformat": 4,
 "nbformat_minor": 2
}