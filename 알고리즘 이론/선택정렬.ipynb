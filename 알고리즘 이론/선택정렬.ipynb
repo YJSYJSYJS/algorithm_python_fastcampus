{
 "cells": [
  {
   "cell_type": "markdown",
   "metadata": {},
   "source": [
    "# 대표적인 정렬 3: 선택 정렬(Selection sort)\n",
    "\n",
    "1. 선택 정렬(Selection sort)란?\n",
    " - 다음과 같은 순서를 반복하며 정렬 하는 알고리즘\n",
    "   1. 주어진 데이터 중, 최소값을 찾음\n",
    "   2. 해당 최소값을 데이터 맨 앞에 위치한 값과 교체함\n",
    "   3. 맨 앞의 위치를 뺀 나머지 데이터를 동일한 방법으로 반복함"
   ]
  },
  {
   "cell_type": "markdown",
   "metadata": {},
   "source": [
    "2. 어떻게 코드로 만들까? -> 작은 개수에서부터 생각해보기\n",
    "  - 데이터가 두개일 때\n",
    "  - 데이터가 세개일 때\n",
    "  - 데이터가 네개일 때"
   ]
  },
  {
   "cell_type": "markdown",
   "metadata": {},
   "source": [
    "3. 알고리즘 구현"
   ]
  },
  {
   "cell_type": "code",
   "execution_count": 1,
   "metadata": {},
   "outputs": [],
   "source": [
    "# for stand in range(데이터길이 -1 ):\n",
    "#     lowest = stand\n",
    "#     for index in range(stand + 1, 데이터 길이):\n",
    "#         if data[lowest] > data[index]:\n",
    "#             lowest = index\n",
    "#     swap(lowest, stand)"
   ]
  },
  {
   "cell_type": "code",
   "execution_count": 5,
   "metadata": {},
   "outputs": [],
   "source": [
    "def selection_sort(data):\n",
    "    for stand in range(len(data)-1):\n",
    "        lowest = stand\n",
    "        for index in range(stand+1, len(data)):\n",
    "            if data[lowest]>data[index]:\n",
    "                lowest = index\n",
    "        data[lowest], data[stand] = data[stand], data[lowest]\n",
    "    return data\n"
   ]
  },
  {
   "cell_type": "code",
   "execution_count": 6,
   "metadata": {},
   "outputs": [],
   "source": [
    "import random\n",
    "data_list = random.sample(range(100), 10)"
   ]
  },
  {
   "cell_type": "code",
   "execution_count": 7,
   "metadata": {},
   "outputs": [
    {
     "output_type": "execute_result",
     "data": {
      "text/plain": "[1, 5, 12, 17, 18, 27, 29, 44, 45, 96]"
     },
     "metadata": {},
     "execution_count": 7
    }
   ],
   "source": [
    "selection_sort(data_list)"
   ]
  },
  {
   "cell_type": "markdown",
   "metadata": {},
   "source": [
    "4. 알고리즘 분석\n",
    "  - 반복문이 두개: O(n**2)\n",
    "    - 실제로 상세하게 계산하면: n(n-1)/2"
   ]
  }
 ],
 "metadata": {
  "language_info": {
   "codemirror_mode": {
    "name": "ipython",
    "version": 3
   },
   "file_extension": ".py",
   "mimetype": "text/x-python",
   "name": "python",
   "nbconvert_exporter": "python",
   "pygments_lexer": "ipython3",
   "version": "3.8.2-final"
  },
  "orig_nbformat": 2,
  "kernelspec": {
   "name": "python38264bit8424580873354fc3a306069dccf17a2c",
   "display_name": "Python 3.8.2 64-bit"
  }
 },
 "nbformat": 4,
 "nbformat_minor": 2
}