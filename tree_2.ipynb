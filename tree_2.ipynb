{
 "cells": [
  {
   "cell_type": "code",
   "execution_count": 4,
   "metadata": {},
   "outputs": [],
   "source": [
    "class Node:\n",
    "    def __init__(self, value):\n",
    "        self.value = value\n",
    "        self.left = None\n",
    "        self.right = None"
   ]
  },
  {
   "cell_type": "code",
   "execution_count": 19,
   "metadata": {},
   "outputs": [],
   "source": [
    "class NodeMng:\n",
    "    def __init__(self, head):\n",
    "        self.head = head\n",
    "\n",
    "    def insert(self, value):\n",
    "        self.current_node = self.head\n",
    "        while True:\n",
    "            if value < self.current_node.value:\n",
    "                if self.current_node.left != None:\n",
    "                    self.current_node = self.current_node.left\n",
    "                else:\n",
    "                    self.current_node.left = Node(value)\n",
    "                    break\n",
    "            else:\n",
    "                if self.current_node.right != None:\n",
    "                    self.current_node = self.current_node.right\n",
    "                else:\n",
    "                    self.current_node.right = Node(value)\n",
    "                    break\n",
    "    \n",
    "    def search(self, value):\n",
    "        self.current_node = self.head\n",
    "        while self.current_node:\n",
    "            if self.current_node.value==value:\n",
    "                return True\n",
    "            elif value<self.current_node.value:\n",
    "                self.current_node = self.current_node.left\n",
    "            else:\n",
    "                self.current_node = self.current_node.right\n",
    "        return False\n",
    "\n",
    "    def delete(self, value):\n",
    "        searched = False\n",
    "        self.current_node = self.head\n",
    "        self.parent = self.head\n",
    "        while self.current_node:\n",
    "            if self.current_node.value == value:\n",
    "                searched = True\n",
    "                break\n",
    "            elif value<self.current_node.value:\n",
    "                self.parent = self.current_node\n",
    "                self.current_node = self.current_node.left\n",
    "            else:\n",
    "                self.parent = self.current_node\n",
    "                self.current_node = self.current_node.right\n",
    "        if searched==False:\n",
    "            return False\n",
    "        ## 이제 case 별로 분리\n",
    "        if self.current_node.right == None and self.current_node.left == None:\n",
    "            if value<self.parent.value:\n",
    "                self.parent.left = None\n",
    "            else:\n",
    "                self.parent.right = None\n",
    "            del self.current_node\n",
    "        elif self.current_node.right and self.current_node.left == None:\n",
    "            if value<self.parent.value:\n",
    "                self.parent.left = self.current_node.left\n",
    "            else:\n",
    "                self.parent.right = self.current_node.left\n",
    "        elif self.current_node.left == Node and self.current_node.right:\n",
    "            if value<self.parent.value:\n",
    "                self.parent.left = self.current_node.right\n",
    "            else:\n",
    "                self.parent.right = self.current_node.right\n",
    "        else: # case 3: self.current_node.left != None and self.current_node.right != None:\n",
    "            if value<self.parent.value: # case 3-1\n",
    "                self.change_node = self.current_node.right\n",
    "                self.change_node_parent = self.current_node.right\n",
    "                while self.change_node.left:\n",
    "                    self.change_node_parent = self.change_node\n",
    "                    self.change_node = self.change_node.left\n",
    "                if self.change_node.right:\n",
    "                    self.change_node_parent.left = self.change_node.right\n",
    "                else:\n",
    "                    self.change_node_parent.left = None\n",
    "                self.parent.left = self.change_node\n",
    "                self.change_node.right = self.current_node.right\n",
    "                self.change_node.left = self.current_node.left\n",
    "                #case 3-2\n",
    "            else:\n",
    "                self.change_node = self.current_node.right\n",
    "                self.change_node_parent = self.current_node.right\n",
    "                while self.change_node.left:\n",
    "                    self.change_node_parent = self.change_node\n",
    "                    self.change_node = self.change_node.left\n",
    "                if self.change_node.right:\n",
    "                    self.change_node_parent.left = self.change_node.right\n",
    "                else:\n",
    "                    self.change_node_parent.left = None\n",
    "                self.parent.right = self.current_node.right\n",
    "                self.change_node.left = self.current_node.left\n",
    "\n",
    "        return True\n"
   ]
  },
  {
   "cell_type": "code",
   "execution_count": 20,
   "metadata": {},
   "outputs": [
    {
     "output_type": "stream",
     "name": "stdout",
     "text": "{515, 516, 6, 13, 22, 23, 538, 43, 49, 58, 59, 574, 64, 65, 70, 73, 586, 587, 86, 88, 602, 604, 94, 615, 618, 111, 114, 630, 640, 130, 645, 138, 144, 657, 147, 160, 174, 175, 181, 182, 183, 696, 186, 187, 699, 704, 709, 717, 210, 211, 217, 222, 735, 738, 755, 244, 757, 766, 768, 770, 263, 267, 271, 272, 280, 796, 290, 293, 808, 813, 301, 303, 313, 317, 319, 321, 852, 854, 857, 354, 874, 366, 881, 371, 394, 906, 917, 918, 922, 414, 416, 417, 940, 428, 947, 436, 995, 494, 505, 509}\n"
    }
   ],
   "source": [
    "import random\n",
    "\n",
    "# 0~999 중, 100개의 숫자 랜덤 선택\n",
    "bst_nums = set()\n",
    "while len(bst_nums)!=100:\n",
    "    bst_nums.add(random.randint(0, 999))\n",
    "print(bst_nums)"
   ]
  },
  {
   "cell_type": "code",
   "execution_count": 21,
   "metadata": {},
   "outputs": [],
   "source": [
    "# 추출한 100개의 숫자를 BST에 입력, 루트노드는 임의로 500을 넣기로 함\n",
    "head = Node(500)\n",
    "bst = NodeMng(head)\n",
    "for num in bst_nums:\n",
    "    bst.insert(num)"
   ]
  },
  {
   "cell_type": "code",
   "execution_count": 22,
   "metadata": {},
   "outputs": [],
   "source": [
    "# 입력한 100개의 숫자 검색(검색 기능 확인)\n",
    "for num in bst_nums:\n",
    "    if bst.search(num) == False:\n",
    "        print('search Failed ', num)"
   ]
  },
  {
   "cell_type": "code",
   "execution_count": 23,
   "metadata": {},
   "outputs": [],
   "source": [
    "# 입력한 100개의 숫자 중 10개의 숫자를 랜덤 선택\n",
    "delete_nums = set()\n",
    "bst_nums = list(bst_nums)\n",
    "while len(delete_nums)!=10:\n",
    "    delete_nums.add(bst_nums[random.randint(0,99)])"
   ]
  },
  {
   "cell_type": "code",
   "execution_count": 25,
   "metadata": {},
   "outputs": [
    {
     "output_type": "stream",
     "name": "stdout",
     "text": "delete failed  640\ndelete failed  417\ndelete failed  515\ndelete failed  645\ndelete failed  70\ndelete failed  267\ndelete failed  147\ndelete failed  696\ndelete failed  59\n"
    }
   ],
   "source": [
    "# 선택한 10개의 숫자를 삭제(삭제 기능 확인)\n",
    "for del_num in delete_nums:\n",
    "    if bst.delete(del_num) == False:\n",
    "        print('delete failed ', del_num)"
   ]
  },
  {
   "cell_type": "code",
   "execution_count": null,
   "metadata": {},
   "outputs": [],
   "source": []
  }
 ],
 "metadata": {
  "language_info": {
   "codemirror_mode": {
    "name": "ipython",
    "version": 3
   },
   "file_extension": ".py",
   "mimetype": "text/x-python",
   "name": "python",
   "nbconvert_exporter": "python",
   "pygments_lexer": "ipython3",
   "version": "3.8.2-final"
  },
  "orig_nbformat": 2,
  "kernelspec": {
   "name": "python38264bit8424580873354fc3a306069dccf17a2c",
   "display_name": "Python 3.8.2 64-bit"
  }
 },
 "nbformat": 4,
 "nbformat_minor": 2
}